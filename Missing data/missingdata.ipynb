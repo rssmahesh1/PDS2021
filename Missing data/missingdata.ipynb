{
  "nbformat": 4,
  "nbformat_minor": 0,
  "metadata": {
    "colab": {
      "name": "missingdata.ipynb",
      "private_outputs": true,
      "provenance": [],
      "collapsed_sections": []
    },
    "kernelspec": {
      "name": "ir",
      "display_name": "R"
    },
    "language_info": {
      "name": "R"
    }
  },
  "cells": [
    {
      "cell_type": "markdown",
      "metadata": {
        "id": "OJG1BMnvc4iw"
      },
      "source": [
        "# **Handeling Missing data**"
      ]
    },
    {
      "cell_type": "code",
      "metadata": {
        "id": "YmKkCRaxepmI"
      },
      "source": [
        "library(tidyverse)"
      ],
      "execution_count": null,
      "outputs": []
    },
    {
      "cell_type": "code",
      "metadata": {
        "id": "mnjhN7QWX1fN"
      },
      "source": [
        "data<-read.table(\"https://raw.githubusercontent.com/rssmahesh1/PDS2021/main/Missing%20data/vehicleMiss.csv\",sep=\",\",head=TRUE)\n",
        "head(data)"
      ],
      "execution_count": null,
      "outputs": []
    },
    {
      "cell_type": "markdown",
      "metadata": {
        "id": "24BXQidZdHcQ"
      },
      "source": [
        "**install packages**"
      ]
    },
    {
      "cell_type": "code",
      "metadata": {
        "id": "CL0QB0iEeCMN"
      },
      "source": [
        "install.packages(\"mice\")"
      ],
      "execution_count": null,
      "outputs": []
    },
    {
      "cell_type": "code",
      "metadata": {
        "id": "F2ecbc86dvid"
      },
      "source": [
        "library(mice)"
      ],
      "execution_count": null,
      "outputs": []
    },
    {
      "cell_type": "code",
      "metadata": {
        "id": "8hpXf-o3g4pv"
      },
      "source": [
        "str(data)"
      ],
      "execution_count": null,
      "outputs": []
    },
    {
      "cell_type": "code",
      "metadata": {
        "id": "odTZyACBg9_S"
      },
      "source": [
        "summary(data)"
      ],
      "execution_count": null,
      "outputs": []
    },
    {
      "cell_type": "code",
      "metadata": {
        "id": "92nyOIvbhE66"
      },
      "source": [
        "#missing data\n",
        "p<-function(x) {sum(is.na(x)/length(x)*100)}\n",
        "apply(data,2,p)"
      ],
      "execution_count": null,
      "outputs": []
    },
    {
      "cell_type": "code",
      "metadata": {
        "id": "7-NX3q2Xi42Q"
      },
      "source": [
        "md.pattern(data)"
      ],
      "execution_count": null,
      "outputs": []
    },
    {
      "cell_type": "code",
      "metadata": {
        "id": "JrV5q0L2jBpw"
      },
      "source": [
        "md.pairs(data)"
      ],
      "execution_count": null,
      "outputs": []
    },
    {
      "cell_type": "code",
      "metadata": {
        "id": "l3sBeAKUjUZf"
      },
      "source": [
        "impute <- mice(data[,2:7], m=3, seed = 123)\n",
        "print(impute)"
      ],
      "execution_count": null,
      "outputs": []
    },
    {
      "cell_type": "code",
      "metadata": {
        "id": "vS6CpTR2jc2P"
      },
      "source": [
        "impute$imp$Mileage"
      ],
      "execution_count": null,
      "outputs": []
    },
    {
      "cell_type": "code",
      "metadata": {
        "id": "IR3iH1XflSpm"
      },
      "source": [
        "data[20,]"
      ],
      "execution_count": null,
      "outputs": []
    },
    {
      "cell_type": "code",
      "metadata": {
        "id": "OnjQhEvclXwF"
      },
      "source": [
        "summary(data$Mileage)"
      ],
      "execution_count": null,
      "outputs": []
    },
    {
      "cell_type": "code",
      "metadata": {
        "id": "iucFNZ92lpCL"
      },
      "source": [
        "data[253,]"
      ],
      "execution_count": null,
      "outputs": []
    },
    {
      "cell_type": "code",
      "metadata": {
        "id": "WVF1zo_Cl8b1"
      },
      "source": [
        "# Complete data\n",
        "newDATA <- complete(impute, 1)"
      ],
      "execution_count": null,
      "outputs": []
    },
    {
      "cell_type": "code",
      "metadata": {
        "id": "mkuWDvEwmPjZ"
      },
      "source": [
        "newDATA"
      ],
      "execution_count": null,
      "outputs": []
    },
    {
      "cell_type": "code",
      "metadata": {
        "id": "aQ5OodiDmfDo"
      },
      "source": [
        "# Distribution of oberserved/imputed values\n",
        "xyplot(impute, lc ~ lh | .imp, pch = 20, cex=1.4)"
      ],
      "execution_count": null,
      "outputs": []
    },
    {
      "cell_type": "code",
      "metadata": {
        "id": "iihsdxxmm1nx"
      },
      "source": [
        "summary(newDATA)"
      ],
      "execution_count": null,
      "outputs": []
    }
  ]
}